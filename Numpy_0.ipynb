{
  "nbformat": 4,
  "nbformat_minor": 0,
  "metadata": {
    "colab": {
      "name": "Numpy_0.ipynb",
      "provenance": [],
      "collapsed_sections": [],
      "authorship_tag": "ABX9TyOuKQ3HQeaJK0Myjh3tmKwB",
      "include_colab_link": true
    },
    "kernelspec": {
      "name": "python3",
      "display_name": "Python 3"
    }
  },
  "cells": [
    {
      "cell_type": "markdown",
      "metadata": {
        "id": "view-in-github",
        "colab_type": "text"
      },
      "source": [
        "<a href=\"https://colab.research.google.com/github/ArkajyotiChakraborty/Python_Basic/blob/master/Numpy_0.ipynb\" target=\"_parent\"><img src=\"https://colab.research.google.com/assets/colab-badge.svg\" alt=\"Open In Colab\"/></a>"
      ]
    },
    {
      "cell_type": "code",
      "metadata": {
        "colab": {
          "base_uri": "https://localhost:8080/"
        },
        "id": "VQIuCVQBIk1d",
        "outputId": "487d1bc1-5271-4196-a9f4-904b5a8b16f3"
      },
      "source": [
        "import numpy as np\r\n",
        "my_list = [1,2,3]\r\n",
        "arr = np.array(my_list)\r\n",
        "arr\r\n",
        "my_score = [[1,2,3],[4,5,6],[7,8,9]]\r\n",
        "arr = np.array(my_score);\r\n",
        "arr\r\n",
        "np.arange(0,10)\r\n",
        "np.random.rand(5)\r\n",
        "arr.reshape(9,1)\r\n"
      ],
      "execution_count": 9,
      "outputs": [
        {
          "output_type": "execute_result",
          "data": {
            "text/plain": [
              "array([[1],\n",
              "       [2],\n",
              "       [3],\n",
              "       [4],\n",
              "       [5],\n",
              "       [6],\n",
              "       [7],\n",
              "       [8],\n",
              "       [9]])"
            ]
          },
          "metadata": {
            "tags": []
          },
          "execution_count": 9
        }
      ]
    }
  ]
}